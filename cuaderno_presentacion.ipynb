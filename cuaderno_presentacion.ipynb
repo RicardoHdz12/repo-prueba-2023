{
 "cells": [
  {
   "cell_type": "markdown",
   "id": "51085579",
   "metadata": {},
   "source": [
    "# Introducción\n",
    "\n",
    "[Wikipedia](https://www.wikipedia.org/)\n",
    "\n"
   ]
  },
  {
   "cell_type": "markdown",
   "id": "47c6a26a",
   "metadata": {},
   "source": [
    "![imagen](https://th.bing.com/th/id/R.df0804a9829e7ecea2e8cc3d8e08014b?rik=YHuKIs0TbUaObA&riu=http%3a%2f%2fwww.redage.org%2fsites%2fdefault%2ffiles%2fimg-logo-institucion%2flogo_iteso.jpg&ehk=8sZPrrQl4mVg0qgXIfbccJ0311jZwCAFybVo%2boYoOFc%3d&risl=&pid=ImgRaw&r=0&sres=1&sresct=1)"
   ]
  },
  {
   "cell_type": "markdown",
   "id": "0be04dd1",
   "metadata": {},
   "source": [
    "1. Primer item \n",
    "2. segundo\n",
    "3. tercero\n",
    "\n",
    "+ item no enumerado\n",
    "- Segundo item no enumerado "
   ]
  },
  {
   "cell_type": "markdown",
   "id": "f3d4c6f7",
   "metadata": {},
   "source": [
    "```\n",
    "import pandas as pd \n",
    "import numpy as np\n",
    "import matplotlib.pyplot as plt\n",
    "```"
   ]
  },
  {
   "cell_type": "code",
   "execution_count": null,
   "id": "d42567f7",
   "metadata": {},
   "outputs": [],
   "source": []
  },
  {
   "cell_type": "code",
   "execution_count": null,
   "id": "8c2db7bb",
   "metadata": {},
   "outputs": [],
   "source": []
  },
  {
   "cell_type": "code",
   "execution_count": null,
   "id": "1a25cafc",
   "metadata": {},
   "outputs": [],
   "source": []
  }
 ],
 "metadata": {
  "kernelspec": {
   "display_name": "Python 3 (ipykernel)",
   "language": "python",
   "name": "python3"
  },
  "language_info": {
   "codemirror_mode": {
    "name": "ipython",
    "version": 3
   },
   "file_extension": ".py",
   "mimetype": "text/x-python",
   "name": "python",
   "nbconvert_exporter": "python",
   "pygments_lexer": "ipython3",
   "version": "3.10.9"
  }
 },
 "nbformat": 4,
 "nbformat_minor": 5
}
